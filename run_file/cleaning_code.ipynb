{
 "cells": [
  {
   "cell_type": "code",
   "execution_count": 1,
   "metadata": {},
   "outputs": [
    {
     "name": "stdout",
     "output_type": "stream",
     "text": [
      "토사퇴적(Deposits-Silty,DS)\n",
      "균열-원주(Crack-Circumferential,CC)\n",
      "표면손상(Surface-Damage,SD)\n",
      "파손(Broken-Pipe,BK)\n",
      "이음부-손상(Joint-Faulty,JF)\n",
      "균열-길이(Crack-Longitudinal,CL)\n",
      "연결관-돌출(Lateral-Protruding,LP)\n",
      "이음부-단차(Joint-Displaced,JD)\n",
      "------------------------\n",
      "class(범주)개수 : 8\n",
      "\n"
     ]
    }
   ],
   "source": [
    "import json\n",
    "import os\n",
    "\n",
    "images = 'images'\n",
    "labels = 'labels'\n",
    "\n",
    "path = f'D:/상하수도 데이터(하수관로 내부 이미지)/Training/{images}'\n",
    "\n",
    "files_and_folders = os.listdir(path)\n",
    "\n",
    "class_folders = [folder for folder in files_and_folders if os.path.isdir(os.path.join(path, folder))]\n",
    "\n",
    "for folder in class_folders:\n",
    "    print(folder)\n",
    "\n",
    "print('------------------------')\n",
    "print(f'class(범주)개수 : {len(class_folders)}\\n')   # 라벨링데이터_압축 폴더, 하수관로 내부 폴더 제거"
   ]
  },
  {
   "cell_type": "markdown",
   "metadata": {},
   "source": [
    "<h3> image에 해당하는 annotation연결 및 txt파일로 정리"
   ]
  },
  {
   "cell_type": "code",
   "execution_count": 2,
   "metadata": {},
   "outputs": [
    {
     "name": "stderr",
     "output_type": "stream",
     "text": [
      "Processing: 100%|██████████| 2065/2065 [00:09<00:00, 225.81it/s]\n",
      "Processing: 100%|██████████| 2756/2756 [00:08<00:00, 332.86it/s]\n",
      "Processing: 100%|██████████| 2384/2384 [00:08<00:00, 279.15it/s]\n",
      "Processing: 100%|██████████| 2120/2120 [00:08<00:00, 250.24it/s]\n",
      "Processing: 100%|██████████| 2239/2239 [00:08<00:00, 269.09it/s]\n",
      "Processing: 100%|██████████| 3363/3363 [00:08<00:00, 381.97it/s]\n",
      "Processing: 100%|██████████| 2086/2086 [00:08<00:00, 239.05it/s]\n",
      "Processing: 100%|██████████| 2082/2082 [00:08<00:00, 238.71it/s]\n"
     ]
    }
   ],
   "source": [
    "from glob import glob\n",
    "import pandas as pd\n",
    "import json2table\n",
    "import numpy as np\n",
    "import making_txt\n",
    "\n",
    "for i in range(len(class_folders)):\n",
    "\n",
    "    class_number = i\n",
    "    selected_class = class_folders[class_number]\n",
    "\n",
    "    with open(f'D:/상하수도 데이터(하수관로 내부 이미지)/Training/{labels}/{selected_class}.json', 'r', encoding='UTF8') as file:\n",
    "        data = json.load(file)\n",
    "\n",
    "    img_path_list = glob(f'D:/상하수도 데이터(하수관로 내부 이미지)/Training/{images}/{selected_class}/*')\n",
    "    img_list = [os.path.basename(img_path) for img_path in img_path_list]\n",
    "\n",
    "    df = json2table.open_optimized(data, img_list)\n",
    "\n",
    "    df = df[(df[\"x\"] <= 1) & (df[\"y\"] <= 1) & (df[\"w\"] <= 1) & (df[\"h\"] <= 1)]\n",
    "    \n",
    "    random_numbers = np.random.permutation(df['image_id'].unique())\n",
    "    selected_numbers = random_numbers[:2000]\n",
    "    df = df[df['image_id'].isin(selected_numbers)]\n",
    "\n",
    "    making_txt.df2txt(df, data, selected_class, class_number)"
   ]
  },
  {
   "cell_type": "markdown",
   "metadata": {},
   "source": [
    "<h3> image파일과 그에 맞는 bbox정보를 담고있는 txt파일 연결"
   ]
  },
  {
   "cell_type": "code",
   "execution_count": 3,
   "metadata": {},
   "outputs": [],
   "source": [
    "def copy(path, changed_path, file_name, category='_'):\n",
    "    \n",
    "    import shutil\n",
    "    import os\n",
    "\n",
    "    if category == 'images':\n",
    "        shutil.copy(os.path.join(path, file_name), os.path.join(changed_path, 'images', file_name))\n",
    "    \n",
    "    elif category == 'labels':\n",
    "        shutil.copy(os.path.join(path, file_name), os.path.join(changed_path, 'labels', file_name))"
   ]
  },
  {
   "cell_type": "code",
   "execution_count": 34,
   "metadata": {},
   "outputs": [],
   "source": [
    "# import random\n",
    "# import os\n",
    "# from tqdm import tqdm\n",
    "\n",
    "# def split_dataset(image_folder, txt_folder, train_folder, valid_folder, test_folder, split_ratio=(1.0, 0, 0)):\n",
    "#     # 이미지 파일 목록, 텍스트 파일 목록 호출\n",
    "#     image_files = os.listdir(image_folder)                                          # image 목록\n",
    "#     text_files = os.listdir(txt_folder)                                             # txt 목록\n",
    "\n",
    "#     # 이미지 파일명과 텍스트 파일명 연결\n",
    "#     file_mapping = {name.split('.')[0] : name for name in text_files}              # file_mapping = {text_name : image_file}의 형식으로 저장\n",
    "    \n",
    "    \n",
    "#     # 이미지 파일을 랜덤하게 섞음\n",
    "#     shuffled_images = list(file_mapping.keys())\n",
    "#     random.shuffle(shuffled_images)\n",
    "\n",
    "#     # 데이터셋 길이와 분할 비율 계산\n",
    "#     num_images = len(shuffled_images)\n",
    "#     train_split = int(num_images * split_ratio[0])\n",
    "#     valid_split = int(num_images * split_ratio[1])\n",
    "\n",
    "#     # 폴더 생성\n",
    "#     for folder in [train_folder, valid_folder, test_folder]:\n",
    "#         os.makedirs(os.path.join(folder, 'images'), exist_ok=True)\n",
    "#         os.makedirs(os.path.join(folder, 'labels'), exist_ok=True)\n",
    "    \n",
    "#     # 이미지 파일 및 대응하는 텍스트 파일 일괄 복사\n",
    "#     with tqdm(total = num_images, desc = 'Copying Files') as pbar:\n",
    "#         for i, (text_name, image_file) in enumerate(file_mapping.items()):\n",
    "#             text_file = f'{text_name}.txt'\n",
    "            \n",
    "\n",
    "#             if i < train_split:\n",
    "            \n",
    "#                 copy(image_folder, train_folder, image_file, category='images')\n",
    "#                 if text_file in text_files:\n",
    "#                     copy(txt_folder, train_folder, text_file, category='labels')\n",
    "\n",
    "\n",
    "#             elif train_split <= i < train_split + valid_split:\n",
    "\n",
    "#                 copy(image_folder, train_folder, image_file, category='images')\n",
    "#                 if text_file in text_files:\n",
    "#                     copy(txt_folder, train_folder, text_file, category='labels')\n",
    "            \n",
    "#             else:\n",
    "\n",
    "#                 copy(image_folder, train_folder, image_file, category='images')\n",
    "#                 if text_file in text_files:\n",
    "#                     copy(txt_folder, train_folder, text_file, category='labels')\n",
    "            \n",
    "#             pbar.update(1)"
   ]
  },
  {
   "cell_type": "code",
   "execution_count": 4,
   "metadata": {},
   "outputs": [],
   "source": [
    "# 변경안\n",
    "\n",
    "import random\n",
    "import os\n",
    "from tqdm import tqdm\n",
    "\n",
    "def split_dataset(image_folder, txt_folder, train_folder, valid_folder, test_folder, split_ratio=(1.0, 0, 0)):\n",
    "    # 이미지 파일 목록, 텍스트 파일 목록 호출\n",
    "    image_files = os.listdir(image_folder)                                          # image 목록\n",
    "    text_files = os.listdir(txt_folder)                                             # txt 목록\n",
    "\n",
    "    # 이미지 파일명과 텍스트 파일명 연결\n",
    "    file_mapping = {name.split('.')[0] : name for name in text_files}              # file_mapping = {text_name : image_file}의 형식으로 저장\n",
    "    \n",
    "    \n",
    "    # 이미지 파일을 랜덤하게 섞음\n",
    "    shuffled_images = list(file_mapping.keys())\n",
    "    random.shuffle(shuffled_images)\n",
    "\n",
    "    # 데이터셋 길이와 분할 비율 계산\n",
    "    num_images = len(shuffled_images)\n",
    "    train_split = int(num_images * split_ratio[0])\n",
    "    valid_split = int(num_images * split_ratio[1])\n",
    "\n",
    "    # 폴더 생성\n",
    "    for folder in [train_folder, valid_folder, test_folder]:\n",
    "        os.makedirs(os.path.join(folder, 'images'), exist_ok=True)\n",
    "        os.makedirs(os.path.join(folder, 'labels'), exist_ok=True)\n",
    "    \n",
    "    # 이미지 파일 및 대응하는 텍스트 파일 일괄 복사\n",
    "    with tqdm(total = num_images, desc = 'Copying Files') as pbar:\n",
    "        for i, (img_name, bbox_file) in enumerate(file_mapping.items()):\n",
    "            img_file = f'{img_name}.png'\n",
    "            \n",
    "\n",
    "            if i < train_split:\n",
    "            \n",
    "                copy(image_folder, train_folder, img_file, category='images')\n",
    "               #copy해라image_folder에서train_folder로img_file을\n",
    "                if bbox_file in text_files:\n",
    "                    copy(txt_folder, train_folder, bbox_file, category='labels')\n",
    "\n",
    "\n",
    "            elif train_split <= i < train_split + valid_split:\n",
    "\n",
    "                copy(image_folder, valid_folder, img_file, category='images')\n",
    "                if bbox_file in text_files:\n",
    "                    copy(txt_folder, valid_folder, bbox_file, category='labels')\n",
    "            \n",
    "            else:\n",
    "\n",
    "                copy(image_folder, test_folder, img_file, category='images')\n",
    "                if bbox_file in text_files:\n",
    "                    copy(txt_folder, test_folder, bbox_file, category='labels')\n",
    "            \n",
    "            pbar.update(1)"
   ]
  },
  {
   "cell_type": "code",
   "execution_count": 5,
   "metadata": {},
   "outputs": [
    {
     "name": "stderr",
     "output_type": "stream",
     "text": [
      "Copying Files: 100%|██████████| 2000/2000 [07:18<00:00,  4.56it/s]\n",
      "Copying Files: 100%|██████████| 2000/2000 [06:52<00:00,  4.85it/s]\n",
      "Copying Files: 100%|██████████| 2000/2000 [07:42<00:00,  4.32it/s]\n",
      "Copying Files: 100%|██████████| 2000/2000 [10:39<00:00,  3.13it/s]\n",
      "Copying Files:  30%|██▉       | 599/2000 [03:18<07:44,  3.01it/s]\n"
     ]
    },
    {
     "ename": "KeyboardInterrupt",
     "evalue": "",
     "output_type": "error",
     "traceback": [
      "\u001b[1;31m---------------------------------------------------------------------------\u001b[0m",
      "\u001b[1;31mKeyboardInterrupt\u001b[0m                         Traceback (most recent call last)",
      "Cell \u001b[1;32mIn[5], line 12\u001b[0m\n\u001b[0;32m      9\u001b[0m test_folder_path \u001b[38;5;241m=\u001b[39m \u001b[38;5;124m'\u001b[39m\u001b[38;5;124mD:/test\u001b[39m\u001b[38;5;124m'\u001b[39m\n\u001b[0;32m     11\u001b[0m \u001b[38;5;66;03m# 폴더 생성 및 데이터셋 분할\u001b[39;00m\n\u001b[1;32m---> 12\u001b[0m \u001b[43msplit_dataset\u001b[49m\u001b[43m(\u001b[49m\u001b[43mimage_folder_path\u001b[49m\u001b[43m,\u001b[49m\u001b[43m \u001b[49m\u001b[43mtext_folder_path\u001b[49m\u001b[43m,\u001b[49m\u001b[43m \u001b[49m\u001b[43mtrain_folder_path\u001b[49m\u001b[43m,\u001b[49m\u001b[43m \u001b[49m\u001b[43mvalid_folder_path\u001b[49m\u001b[43m,\u001b[49m\u001b[43m \u001b[49m\u001b[43mtest_folder_path\u001b[49m\u001b[43m,\u001b[49m\u001b[43m \u001b[49m\u001b[43msplit_ratio\u001b[49m\u001b[38;5;241;43m=\u001b[39;49m\u001b[43m(\u001b[49m\u001b[38;5;241;43m0\u001b[39;49m\u001b[43m,\u001b[49m\u001b[43m \u001b[49m\u001b[38;5;241;43m1.0\u001b[39;49m\u001b[43m,\u001b[49m\u001b[43m \u001b[49m\u001b[38;5;241;43m0\u001b[39;49m\u001b[43m)\u001b[49m\u001b[43m)\u001b[49m\n",
      "Cell \u001b[1;32mIn[4], line 46\u001b[0m, in \u001b[0;36msplit_dataset\u001b[1;34m(image_folder, txt_folder, train_folder, valid_folder, test_folder, split_ratio)\u001b[0m\n\u001b[0;32m     41\u001b[0m         copy(txt_folder, train_folder, bbox_file, category\u001b[38;5;241m=\u001b[39m\u001b[38;5;124m'\u001b[39m\u001b[38;5;124mlabels\u001b[39m\u001b[38;5;124m'\u001b[39m)\n\u001b[0;32m     44\u001b[0m \u001b[38;5;28;01melif\u001b[39;00m train_split \u001b[38;5;241m<\u001b[39m\u001b[38;5;241m=\u001b[39m i \u001b[38;5;241m<\u001b[39m train_split \u001b[38;5;241m+\u001b[39m valid_split:\n\u001b[1;32m---> 46\u001b[0m     \u001b[43mcopy\u001b[49m\u001b[43m(\u001b[49m\u001b[43mimage_folder\u001b[49m\u001b[43m,\u001b[49m\u001b[43m \u001b[49m\u001b[43mtrain_folder\u001b[49m\u001b[43m,\u001b[49m\u001b[43m \u001b[49m\u001b[43mimg_file\u001b[49m\u001b[43m,\u001b[49m\u001b[43m \u001b[49m\u001b[43mcategory\u001b[49m\u001b[38;5;241;43m=\u001b[39;49m\u001b[38;5;124;43m'\u001b[39;49m\u001b[38;5;124;43mimages\u001b[39;49m\u001b[38;5;124;43m'\u001b[39;49m\u001b[43m)\u001b[49m\n\u001b[0;32m     47\u001b[0m     \u001b[38;5;28;01mif\u001b[39;00m bbox_file \u001b[38;5;129;01min\u001b[39;00m text_files:\n\u001b[0;32m     48\u001b[0m         copy(txt_folder, train_folder, bbox_file, category\u001b[38;5;241m=\u001b[39m\u001b[38;5;124m'\u001b[39m\u001b[38;5;124mlabels\u001b[39m\u001b[38;5;124m'\u001b[39m)\n",
      "Cell \u001b[1;32mIn[3], line 7\u001b[0m, in \u001b[0;36mcopy\u001b[1;34m(path, changed_path, file_name, category)\u001b[0m\n\u001b[0;32m      4\u001b[0m \u001b[38;5;28;01mimport\u001b[39;00m \u001b[38;5;21;01mos\u001b[39;00m\n\u001b[0;32m      6\u001b[0m \u001b[38;5;28;01mif\u001b[39;00m category \u001b[38;5;241m==\u001b[39m \u001b[38;5;124m'\u001b[39m\u001b[38;5;124mimages\u001b[39m\u001b[38;5;124m'\u001b[39m:\n\u001b[1;32m----> 7\u001b[0m     \u001b[43mshutil\u001b[49m\u001b[38;5;241;43m.\u001b[39;49m\u001b[43mcopy\u001b[49m\u001b[43m(\u001b[49m\u001b[43mos\u001b[49m\u001b[38;5;241;43m.\u001b[39;49m\u001b[43mpath\u001b[49m\u001b[38;5;241;43m.\u001b[39;49m\u001b[43mjoin\u001b[49m\u001b[43m(\u001b[49m\u001b[43mpath\u001b[49m\u001b[43m,\u001b[49m\u001b[43m \u001b[49m\u001b[43mfile_name\u001b[49m\u001b[43m)\u001b[49m\u001b[43m,\u001b[49m\u001b[43m \u001b[49m\u001b[43mos\u001b[49m\u001b[38;5;241;43m.\u001b[39;49m\u001b[43mpath\u001b[49m\u001b[38;5;241;43m.\u001b[39;49m\u001b[43mjoin\u001b[49m\u001b[43m(\u001b[49m\u001b[43mchanged_path\u001b[49m\u001b[43m,\u001b[49m\u001b[43m \u001b[49m\u001b[38;5;124;43m'\u001b[39;49m\u001b[38;5;124;43mimages\u001b[39;49m\u001b[38;5;124;43m'\u001b[39;49m\u001b[43m,\u001b[49m\u001b[43m \u001b[49m\u001b[43mfile_name\u001b[49m\u001b[43m)\u001b[49m\u001b[43m)\u001b[49m\n\u001b[0;32m      9\u001b[0m \u001b[38;5;28;01melif\u001b[39;00m category \u001b[38;5;241m==\u001b[39m \u001b[38;5;124m'\u001b[39m\u001b[38;5;124mlabels\u001b[39m\u001b[38;5;124m'\u001b[39m:\n\u001b[0;32m     10\u001b[0m     shutil\u001b[38;5;241m.\u001b[39mcopy(os\u001b[38;5;241m.\u001b[39mpath\u001b[38;5;241m.\u001b[39mjoin(path, file_name), os\u001b[38;5;241m.\u001b[39mpath\u001b[38;5;241m.\u001b[39mjoin(changed_path, \u001b[38;5;124m'\u001b[39m\u001b[38;5;124mlabels\u001b[39m\u001b[38;5;124m'\u001b[39m, file_name))\n",
      "File \u001b[1;32mc:\\Users\\hs\\anaconda3\\envs\\gan\\lib\\shutil.py:418\u001b[0m, in \u001b[0;36mcopy\u001b[1;34m(src, dst, follow_symlinks)\u001b[0m\n\u001b[0;32m    416\u001b[0m \u001b[38;5;28;01mif\u001b[39;00m os\u001b[38;5;241m.\u001b[39mpath\u001b[38;5;241m.\u001b[39misdir(dst):\n\u001b[0;32m    417\u001b[0m     dst \u001b[38;5;241m=\u001b[39m os\u001b[38;5;241m.\u001b[39mpath\u001b[38;5;241m.\u001b[39mjoin(dst, os\u001b[38;5;241m.\u001b[39mpath\u001b[38;5;241m.\u001b[39mbasename(src))\n\u001b[1;32m--> 418\u001b[0m \u001b[43mcopyfile\u001b[49m\u001b[43m(\u001b[49m\u001b[43msrc\u001b[49m\u001b[43m,\u001b[49m\u001b[43m \u001b[49m\u001b[43mdst\u001b[49m\u001b[43m,\u001b[49m\u001b[43m \u001b[49m\u001b[43mfollow_symlinks\u001b[49m\u001b[38;5;241;43m=\u001b[39;49m\u001b[43mfollow_symlinks\u001b[49m\u001b[43m)\u001b[49m\n\u001b[0;32m    419\u001b[0m copymode(src, dst, follow_symlinks\u001b[38;5;241m=\u001b[39mfollow_symlinks)\n\u001b[0;32m    420\u001b[0m \u001b[38;5;28;01mreturn\u001b[39;00m dst\n",
      "File \u001b[1;32mc:\\Users\\hs\\anaconda3\\envs\\gan\\lib\\shutil.py:264\u001b[0m, in \u001b[0;36mcopyfile\u001b[1;34m(src, dst, follow_symlinks)\u001b[0m\n\u001b[0;32m    262\u001b[0m     os\u001b[38;5;241m.\u001b[39msymlink(os\u001b[38;5;241m.\u001b[39mreadlink(src), dst)\n\u001b[0;32m    263\u001b[0m \u001b[38;5;28;01melse\u001b[39;00m:\n\u001b[1;32m--> 264\u001b[0m     \u001b[38;5;28;01mwith\u001b[39;00m \u001b[38;5;28;43mopen\u001b[39;49m\u001b[43m(\u001b[49m\u001b[43msrc\u001b[49m\u001b[43m,\u001b[49m\u001b[43m \u001b[49m\u001b[38;5;124;43m'\u001b[39;49m\u001b[38;5;124;43mrb\u001b[39;49m\u001b[38;5;124;43m'\u001b[39;49m\u001b[43m)\u001b[49m \u001b[38;5;28;01mas\u001b[39;00m fsrc, \u001b[38;5;28mopen\u001b[39m(dst, \u001b[38;5;124m'\u001b[39m\u001b[38;5;124mwb\u001b[39m\u001b[38;5;124m'\u001b[39m) \u001b[38;5;28;01mas\u001b[39;00m fdst:\n\u001b[0;32m    265\u001b[0m         \u001b[38;5;66;03m# macOS\u001b[39;00m\n\u001b[0;32m    266\u001b[0m         \u001b[38;5;28;01mif\u001b[39;00m _HAS_FCOPYFILE:\n\u001b[0;32m    267\u001b[0m             \u001b[38;5;28;01mtry\u001b[39;00m:\n",
      "\u001b[1;31mKeyboardInterrupt\u001b[0m: "
     ]
    }
   ],
   "source": [
    "for folder in class_folders:\n",
    "    # 이미지, 텍스트 파일이 있는 폴더 경로 설정\n",
    "    image_folder_path = f'D:/상하수도 데이터(하수관로 내부 이미지)/Training/images/{folder}'\n",
    "    text_folder_path = f'D:/sewer detect/valid_folder/{folder}_folder'\n",
    "\n",
    "    # 결과를 저장할 train, valid, test 폴더 경로 설정\n",
    "    train_folder_path = 'D:/train'\n",
    "    valid_folder_path = 'D:/valid'\n",
    "    test_folder_path = 'D:/test'\n",
    "\n",
    "    # 폴더 생성 및 데이터셋 분할\n",
    "    split_dataset(image_folder_path, text_folder_path, train_folder_path, valid_folder_path, test_folder_path, split_ratio=(0, 1.0, 0))"
   ]
  },
  {
   "cell_type": "code",
   "execution_count": null,
   "metadata": {},
   "outputs": [],
   "source": []
  }
 ],
 "metadata": {
  "kernelspec": {
   "display_name": "gan",
   "language": "python",
   "name": "python3"
  },
  "language_info": {
   "codemirror_mode": {
    "name": "ipython",
    "version": 3
   },
   "file_extension": ".py",
   "mimetype": "text/x-python",
   "name": "python",
   "nbconvert_exporter": "python",
   "pygments_lexer": "ipython3",
   "version": "3.8.13"
  }
 },
 "nbformat": 4,
 "nbformat_minor": 2
}
