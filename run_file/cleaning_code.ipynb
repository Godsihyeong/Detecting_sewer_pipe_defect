{
 "cells": [
  {
   "cell_type": "code",
   "execution_count": 1,
   "metadata": {},
   "outputs": [
    {
     "name": "stdout",
     "output_type": "stream",
     "text": [
      "토사퇴적(Deposits-Silty,DS)\n",
      "균열-원주(Crack-Circumferential,CC)\n",
      "표면손상(Surface-Damage,SD)\n",
      "파손(Broken-Pipe,BK)\n",
      "이음부-손상(Joint-Faulty,JF)\n",
      "균열-길이(Crack-Longitudinal,CL)\n",
      "연결관-돌출(Lateral-Protruding,LP)\n",
      "이음부-단차(Joint-Displaced,JD)\n",
      "------------------------\n",
      "class(범주)개수 : 8\n",
      "\n"
     ]
    }
   ],
   "source": [
    "import json\n",
    "import os\n",
    "\n",
    "images = 'images'\n",
    "labels = 'labels'\n",
    "\n",
    "path = f'D:/상하수도 데이터(하수관로 내부 이미지)/Training/{images}'\n",
    "\n",
    "files_and_folders = os.listdir(path)\n",
    "\n",
    "class_folders = [folder for folder in files_and_folders if os.path.isdir(os.path.join(path, folder))]\n",
    "\n",
    "for folder in class_folders:\n",
    "    print(folder)\n",
    "\n",
    "print('------------------------')\n",
    "print(f'class(범주)개수 : {len(class_folders)}\\n')   # 라벨링데이터_압축 폴더, 하수관로 내부 폴더 제거"
   ]
  },
  {
   "cell_type": "markdown",
   "metadata": {},
   "source": [
    "<h3> image에 해당하는 annotation연결 및 txt파일로 정리"
   ]
  },
  {
   "cell_type": "code",
   "execution_count": 28,
   "metadata": {},
   "outputs": [
    {
     "name": "stderr",
     "output_type": "stream",
     "text": [
      "Processing: 100%|██████████| 6155/6155 [00:32<00:00, 191.61it/s]\n",
      "Processing: 100%|██████████| 8500/8500 [00:34<00:00, 246.26it/s]\n",
      "Processing: 100%|██████████| 7263/7263 [00:33<00:00, 218.00it/s]\n",
      "Processing: 100%|██████████| 6399/6399 [00:33<00:00, 192.86it/s]\n",
      "Processing: 100%|██████████| 6672/6672 [00:32<00:00, 202.55it/s]\n",
      "Processing: 100%|██████████| 10257/10257 [00:34<00:00, 299.14it/s]\n",
      "Processing: 100%|██████████| 6317/6317 [00:32<00:00, 192.04it/s]\n",
      "Processing: 100%|██████████| 6241/6241 [00:31<00:00, 197.90it/s]\n"
     ]
    }
   ],
   "source": [
    "from glob import glob\n",
    "import pandas as pd\n",
    "import json2table\n",
    "import numpy as np\n",
    "import making_txt\n",
    "\n",
    "for i in range(len(class_folders)):\n",
    "\n",
    "    class_number = i\n",
    "    selected_class = class_folders[class_number]\n",
    "\n",
    "    with open(f'D:/상하수도 데이터(하수관로 내부 이미지)/Training/{labels}/{selected_class}.json', 'r', encoding='UTF8') as file:\n",
    "        data = json.load(file)\n",
    "\n",
    "    img_path_list = glob(f'D:/상하수도 데이터(하수관로 내부 이미지)/Training/{images}/{selected_class}/*')\n",
    "    img_list = [os.path.basename(img_path) for img_path in img_path_list]\n",
    "\n",
    "    df = json2table.open_optimized(data, img_list)\n",
    "\n",
    "    df = df[(df[\"x\"] <= 1) & (df[\"y\"] <= 1) & (df[\"w\"] <= 1) & (df[\"h\"] <= 1)]\n",
    "    \n",
    "    random_numbers = np.random.permutation(df['image_id'].unique())\n",
    "    selected_numbers = random_numbers[:2000]\n",
    "    df = df[df['image_id'].isin(selected_numbers)]\n",
    "\n",
    "    making_txt.df2txt(df, data, selected_class, class_number)"
   ]
  },
  {
   "cell_type": "markdown",
   "metadata": {},
   "source": [
    "<h3> image파일과 그에 맞는 bbox정보를 담고있는 txt파일 연결"
   ]
  },
  {
   "cell_type": "code",
   "execution_count": 29,
   "metadata": {},
   "outputs": [],
   "source": [
    "def copy(path, changed_path, file_name, category='_'):\n",
    "    \n",
    "    import shutil\n",
    "    import os\n",
    "\n",
    "    if category == 'images':\n",
    "        shutil.copy(os.path.join(path, file_name), os.path.join(changed_path, 'images', file_name))\n",
    "    \n",
    "    elif category == 'labels':\n",
    "        shutil.copy(os.path.join(path, file_name), os.path.join(changed_path, 'labels', file_name))"
   ]
  },
  {
   "cell_type": "code",
   "execution_count": 34,
   "metadata": {},
   "outputs": [],
   "source": [
    "# import random\n",
    "# import os\n",
    "# from tqdm import tqdm\n",
    "\n",
    "# def split_dataset(image_folder, txt_folder, train_folder, valid_folder, test_folder, split_ratio=(1.0, 0, 0)):\n",
    "#     # 이미지 파일 목록, 텍스트 파일 목록 호출\n",
    "#     image_files = os.listdir(image_folder)                                          # image 목록\n",
    "#     text_files = os.listdir(txt_folder)                                             # txt 목록\n",
    "\n",
    "#     # 이미지 파일명과 텍스트 파일명 연결\n",
    "#     file_mapping = {name.split('.')[0] : name for name in text_files}              # file_mapping = {text_name : image_file}의 형식으로 저장\n",
    "    \n",
    "    \n",
    "#     # 이미지 파일을 랜덤하게 섞음\n",
    "#     shuffled_images = list(file_mapping.keys())\n",
    "#     random.shuffle(shuffled_images)\n",
    "\n",
    "#     # 데이터셋 길이와 분할 비율 계산\n",
    "#     num_images = len(shuffled_images)\n",
    "#     train_split = int(num_images * split_ratio[0])\n",
    "#     valid_split = int(num_images * split_ratio[1])\n",
    "\n",
    "#     # 폴더 생성\n",
    "#     for folder in [train_folder, valid_folder, test_folder]:\n",
    "#         os.makedirs(os.path.join(folder, 'images'), exist_ok=True)\n",
    "#         os.makedirs(os.path.join(folder, 'labels'), exist_ok=True)\n",
    "    \n",
    "#     # 이미지 파일 및 대응하는 텍스트 파일 일괄 복사\n",
    "#     with tqdm(total = num_images, desc = 'Copying Files') as pbar:\n",
    "#         for i, (text_name, image_file) in enumerate(file_mapping.items()):\n",
    "#             text_file = f'{text_name}.txt'\n",
    "            \n",
    "\n",
    "#             if i < train_split:\n",
    "            \n",
    "#                 copy(image_folder, train_folder, image_file, category='images')\n",
    "#                 if text_file in text_files:\n",
    "#                     copy(txt_folder, train_folder, text_file, category='labels')\n",
    "\n",
    "\n",
    "#             elif train_split <= i < train_split + valid_split:\n",
    "\n",
    "#                 copy(image_folder, train_folder, image_file, category='images')\n",
    "#                 if text_file in text_files:\n",
    "#                     copy(txt_folder, train_folder, text_file, category='labels')\n",
    "            \n",
    "#             else:\n",
    "\n",
    "#                 copy(image_folder, train_folder, image_file, category='images')\n",
    "#                 if text_file in text_files:\n",
    "#                     copy(txt_folder, train_folder, text_file, category='labels')\n",
    "            \n",
    "#             pbar.update(1)"
   ]
  },
  {
   "cell_type": "code",
   "execution_count": 36,
   "metadata": {},
   "outputs": [],
   "source": [
    "# 변경안\n",
    "\n",
    "import random\n",
    "import os\n",
    "from tqdm import tqdm\n",
    "\n",
    "def split_dataset(image_folder, txt_folder, train_folder, valid_folder, test_folder, split_ratio=(1.0, 0, 0)):\n",
    "    # 이미지 파일 목록, 텍스트 파일 목록 호출\n",
    "    image_files = os.listdir(image_folder)                                          # image 목록\n",
    "    text_files = os.listdir(txt_folder)                                             # txt 목록\n",
    "\n",
    "    # 이미지 파일명과 텍스트 파일명 연결\n",
    "    file_mapping = {name.split('.')[0] : name for name in text_files}              # file_mapping = {text_name : image_file}의 형식으로 저장\n",
    "    \n",
    "    \n",
    "    # 이미지 파일을 랜덤하게 섞음\n",
    "    shuffled_images = list(file_mapping.keys())\n",
    "    random.shuffle(shuffled_images)\n",
    "\n",
    "    # 데이터셋 길이와 분할 비율 계산\n",
    "    num_images = len(shuffled_images)\n",
    "    train_split = int(num_images * split_ratio[0])\n",
    "    valid_split = int(num_images * split_ratio[1])\n",
    "\n",
    "    # 폴더 생성\n",
    "    for folder in [train_folder, valid_folder, test_folder]:\n",
    "        os.makedirs(os.path.join(folder, 'images'), exist_ok=True)\n",
    "        os.makedirs(os.path.join(folder, 'labels'), exist_ok=True)\n",
    "    \n",
    "    # 이미지 파일 및 대응하는 텍스트 파일 일괄 복사\n",
    "    with tqdm(total = num_images, desc = 'Copying Files') as pbar:\n",
    "        for i, (img_name, bbox_file) in enumerate(file_mapping.items()):\n",
    "            img_file = f'{img_name}.png'\n",
    "            \n",
    "\n",
    "            if i < train_split:\n",
    "            \n",
    "                copy(image_folder, train_folder, img_file, category='images')\n",
    "               #copy해라image_folder에서train_folder로img_file을\n",
    "                if bbox_file in text_files:\n",
    "                    copy(txt_folder, train_folder, bbox_file, category='labels')\n",
    "\n",
    "\n",
    "            elif train_split <= i < train_split + valid_split:\n",
    "\n",
    "                copy(image_folder, train_folder, img_file, category='images')\n",
    "                if bbox_file in text_files:\n",
    "                    copy(txt_folder, train_folder, bbox_file, category='labels')\n",
    "            \n",
    "            else:\n",
    "\n",
    "                copy(image_folder, train_folder, img_file, category='images')\n",
    "                if bbox_file in text_files:\n",
    "                    copy(txt_folder, train_folder, bbox_file, category='labels')\n",
    "            \n",
    "            pbar.update(1)"
   ]
  },
  {
   "cell_type": "code",
   "execution_count": 37,
   "metadata": {},
   "outputs": [
    {
     "name": "stderr",
     "output_type": "stream",
     "text": [
      "Copying Files: 100%|██████████| 6000/6000 [14:02<00:00,  7.12it/s]  \n",
      "Copying Files: 100%|██████████| 6000/6000 [14:56<00:00,  6.70it/s]  \n",
      "Copying Files: 100%|██████████| 6000/6000 [18:10<00:00,  5.50it/s]  \n",
      "Copying Files: 100%|██████████| 6000/6000 [29:43<00:00,  3.36it/s]  \n",
      "Copying Files: 100%|██████████| 6000/6000 [33:38<00:00,  2.97it/s]  \n",
      "Copying Files: 100%|██████████| 6000/6000 [22:09<00:00,  4.51it/s]  \n",
      "Copying Files: 100%|██████████| 6000/6000 [31:01<00:00,  3.22it/s]  \n",
      "Copying Files: 100%|██████████| 6000/6000 [35:21<00:00,  2.83it/s]  \n"
     ]
    }
   ],
   "source": [
    "for folder in class_folders:\n",
    "    # 이미지, 텍스트 파일이 있는 폴더 경로 설정\n",
    "    image_folder_path = f'D:/상하수도 데이터(하수관로 내부 이미지)/Training/images/{folder}'\n",
    "    text_folder_path = f'D:/sewer detect/folder/{folder}_folder'\n",
    "\n",
    "    # 결과를 저장할 train, valid, test 폴더 경로 설정\n",
    "    train_folder_path = 'D:/train'\n",
    "    valid_folder_path = 'D:/valid'\n",
    "    test_folder_path = 'D:/test'\n",
    "\n",
    "    # 폴더 생성 및 데이터셋 분할\n",
    "    split_dataset(image_folder_path, text_folder_path, train_folder_path, valid_folder_path, test_folder_path, split_ratio=(0, 1.0, 0))"
   ]
  },
  {
   "cell_type": "code",
   "execution_count": null,
   "metadata": {},
   "outputs": [],
   "source": []
  }
 ],
 "metadata": {
  "kernelspec": {
   "display_name": "gan",
   "language": "python",
   "name": "python3"
  },
  "language_info": {
   "codemirror_mode": {
    "name": "ipython",
    "version": 3
   },
   "file_extension": ".py",
   "mimetype": "text/x-python",
   "name": "python",
   "nbconvert_exporter": "python",
   "pygments_lexer": "ipython3",
   "version": "3.8.13"
  }
 },
 "nbformat": 4,
 "nbformat_minor": 2
}
